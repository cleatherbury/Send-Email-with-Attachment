{
 "cells": [
  {
   "cell_type": "code",
   "execution_count": 5,
   "metadata": {},
   "outputs": [
    {
     "name": "stdout",
     "output_type": "stream",
     "text": [
      "text\n",
      "plain\n",
      "From: me@example.com\n",
      "To: you@example.com\n",
      "Subject: Greetings from me@example.com to you@example.com!\n",
      "MIME-Version: 1.0\n",
      "Content-Type: multipart/mixed; boundary=\"===============6792887426961215923==\"\n",
      "\n",
      "--===============6792887426961215923==\n",
      "Content-Type: text/plain; charset=\"utf-8\"\n",
      "Content-Transfer-Encoding: 7bit\n",
      "\n",
      "Hey there!  \n",
      "\n",
      "I'm learning to send emails using Python!\n",
      "\n",
      "--===============6792887426961215923==\n",
      "Content-Type: text/plain\n",
      "Content-Transfer-Encoding: base64\n",
      "Content-Disposition: attachment; filename=\"report.txt\"\n",
      "MIME-Version: 1.0\n",
      "\n",
      "\n",
      "--===============6792887426961215923==--\n",
      "\n"
     ]
    }
   ],
   "source": [
    "#Print Email\n",
    "from email.message import EmailMessage\n",
    "message = EmailMessage()\n",
    "sender = \"me@example.com\"\n",
    "recipient = \"you@example.com\"\n",
    "\n",
    "message['From'] = sender\n",
    "message['To'] = recipient\n",
    "message['Subject'] = 'Greetings from {} to {}!'.format(sender, recipient)\n",
    "body = \"\"\"Hey there!  \n",
    "\n",
    "I'm learning to send emails using Python!\"\"\"\n",
    "message.set_content(body)\n",
    "\n",
    "#Add Attachments\n",
    "import os.path\n",
    "attachment_path = \"rpt/report.txt\"\n",
    "filename =  os.path.basename(attachment_path)\n",
    "import mimetypes\n",
    "mime_type, _ = mimetypes.guess_type(attachment_path)\n",
    "mime_type, mime_subtype = mime_type.split('/', 1)\n",
    "print(mime_type)\n",
    "print(mime_subtype)\n",
    "\n",
    "with open(attachment_path, 'rb') as ap:\n",
    "  message.add_attachment(ap.read(),\n",
    "                        maintype=mime_type,\n",
    "                        subtype=mime_subtype,\n",
    "                        filename=os.path.basename(attachment_path))\n",
    "  print(message)\n"
   ]
  }
 ],
 "metadata": {
  "kernelspec": {
   "display_name": "Python 3",
   "language": "python",
   "name": "python3"
  },
  "language_info": {
   "codemirror_mode": {
    "name": "ipython",
    "version": 3
   },
   "file_extension": ".py",
   "mimetype": "text/x-python",
   "name": "python",
   "nbconvert_exporter": "python",
   "pygments_lexer": "ipython3",
   "version": "3.11.4"
  },
  "orig_nbformat": 4
 },
 "nbformat": 4,
 "nbformat_minor": 2
}
